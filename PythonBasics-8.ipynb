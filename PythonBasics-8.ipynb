{
 "cells": [
  {
   "cell_type": "code",
   "execution_count": 2,
   "id": "8a2d3665",
   "metadata": {},
   "outputs": [],
   "source": [
    "#Try/Except block\n",
    "#this block is used for error handling"
   ]
  },
  {
   "cell_type": "code",
   "execution_count": 3,
   "id": "fda0c6ff",
   "metadata": {},
   "outputs": [
    {
     "name": "stdout",
     "output_type": "stream",
     "text": [
      "Enter a number : hello\n"
     ]
    },
    {
     "ename": "ValueError",
     "evalue": "invalid literal for int() with base 10: 'hello'",
     "output_type": "error",
     "traceback": [
      "\u001b[1;31m---------------------------------------------------------------------------\u001b[0m",
      "\u001b[1;31mValueError\u001b[0m                                Traceback (most recent call last)",
      "\u001b[1;32m<ipython-input-3-729b03650eed>\u001b[0m in \u001b[0;36m<module>\u001b[1;34m\u001b[0m\n\u001b[0;32m      1\u001b[0m \u001b[1;31m#example of error\u001b[0m\u001b[1;33m\u001b[0m\u001b[1;33m\u001b[0m\u001b[1;33m\u001b[0m\u001b[0m\n\u001b[1;32m----> 2\u001b[1;33m \u001b[0mnum\u001b[0m\u001b[1;33m=\u001b[0m\u001b[0mint\u001b[0m\u001b[1;33m(\u001b[0m\u001b[0minput\u001b[0m\u001b[1;33m(\u001b[0m\u001b[1;34m\"Enter a number : \"\u001b[0m\u001b[1;33m)\u001b[0m\u001b[1;33m)\u001b[0m\u001b[1;33m\u001b[0m\u001b[1;33m\u001b[0m\u001b[0m\n\u001b[0m\u001b[0;32m      3\u001b[0m \u001b[0mprint\u001b[0m\u001b[1;33m(\u001b[0m\u001b[0mnum\u001b[0m\u001b[1;33m)\u001b[0m\u001b[1;33m\u001b[0m\u001b[1;33m\u001b[0m\u001b[0m\n",
      "\u001b[1;31mValueError\u001b[0m: invalid literal for int() with base 10: 'hello'"
     ]
    }
   ],
   "source": [
    "#example of error\n",
    "num=int(input(\"Enter a number : \"))\n",
    "print(num)\n",
    "\n",
    "#lets deliberately make an error"
   ]
  },
  {
   "cell_type": "code",
   "execution_count": 7,
   "id": "8a1ecf8c",
   "metadata": {},
   "outputs": [],
   "source": [
    "#we get a ValueError becuase we entered a string where an integer is supposed to be entered\n",
    "#to handle such errors we will be using a try/except block"
   ]
  },
  {
   "cell_type": "code",
   "execution_count": 6,
   "id": "a943141d",
   "metadata": {},
   "outputs": [],
   "source": [
    "#syntax of try/except block\n",
    "try:\n",
    "    #statements\n",
    "    \n",
    "except:\n",
    "    #statements"
   ]
  },
  {
   "cell_type": "code",
   "execution_count": 8,
   "id": "97084c87",
   "metadata": {},
   "outputs": [
    {
     "name": "stdout",
     "output_type": "stream",
     "text": [
      "Enter a number : hello\n",
      "Invalid input\n"
     ]
    }
   ],
   "source": [
    "#using a try/except block\n",
    "\n",
    "try:\n",
    "    num=int(input(\"Enter a number : \"))\n",
    "    print(num)\n",
    "\n",
    "except:\n",
    "    print(\"Invalid input\")\n",
    "    \n",
    "#now if we enter an invalid input our except part will show-up"
   ]
  },
  {
   "cell_type": "code",
   "execution_count": 9,
   "id": "873de2f7",
   "metadata": {},
   "outputs": [],
   "source": [
    "#our except part has succesfully kicked-in"
   ]
  },
  {
   "cell_type": "code",
   "execution_count": 10,
   "id": "be16bb84",
   "metadata": {},
   "outputs": [],
   "source": [
    "#the only problem is that the except part will catch any error\n",
    "#the location of the error doesn't matter\n",
    "#we need the except part to catch different type of errors"
   ]
  },
  {
   "cell_type": "code",
   "execution_count": null,
   "id": "09b0fa95",
   "metadata": {},
   "outputs": [],
   "source": [
    "#adding a clause to the excpet part\n",
    "try:\n",
    "    num=int(input(\"Enter a number : \"))\n",
    "    print(num)\n",
    "\n",
    "except ValueError:\n",
    "    print(\"Invalid input\")\n",
    "    \n",
    "#now this program will on throw an exception if we find a value error"
   ]
  },
  {
   "cell_type": "code",
   "execution_count": 11,
   "id": "9ef3f187",
   "metadata": {},
   "outputs": [
    {
     "name": "stdout",
     "output_type": "stream",
     "text": [
      "division by zero\n"
     ]
    }
   ],
   "source": [
    "#letting the computer print the error\n",
    "try:\n",
    "    value=10/0\n",
    "    \n",
    "except ZeroDivisionError as err:\n",
    "    print(err)\n",
    "    \n",
    "#here the computer itself will print the error"
   ]
  },
  {
   "cell_type": "code",
   "execution_count": null,
   "id": "02d04a83",
   "metadata": {},
   "outputs": [],
   "source": [
    "#   Some types of errors are:\n",
    "#   1)ZeroDivisionError\n",
    "#   2)TypeError\n",
    "#   3)ValueError\n",
    "#   4)NameError\n",
    "#   5)SyntaxError\n",
    "#   6)RuntimeError\n",
    "#   7)OSError"
   ]
  }
 ],
 "metadata": {
  "kernelspec": {
   "display_name": "Python 3",
   "language": "python",
   "name": "python3"
  },
  "language_info": {
   "codemirror_mode": {
    "name": "ipython",
    "version": 3
   },
   "file_extension": ".py",
   "mimetype": "text/x-python",
   "name": "python",
   "nbconvert_exporter": "python",
   "pygments_lexer": "ipython3",
   "version": "3.8.8"
  }
 },
 "nbformat": 4,
 "nbformat_minor": 5
}
