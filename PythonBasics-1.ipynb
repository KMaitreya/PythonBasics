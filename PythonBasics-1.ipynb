{
 "cells": [
  {
   "cell_type": "code",
   "execution_count": 19,
   "id": "813a4ddb",
   "metadata": {},
   "outputs": [],
   "source": [
    "#These are the basics of python which include playing with strings and number and using the print statement\""
   ]
  },
  {
   "cell_type": "code",
   "execution_count": 18,
   "id": "f135445f",
   "metadata": {},
   "outputs": [
    {
     "name": "stdout",
     "output_type": "stream",
     "text": [
      "learning python\n"
     ]
    }
   ],
   "source": [
    "#print statement\n",
    "print(\"learning python\")"
   ]
  },
  {
   "cell_type": "code",
   "execution_count": 3,
   "id": "00c1b31d",
   "metadata": {},
   "outputs": [
    {
     "name": "stdout",
     "output_type": "stream",
     "text": [
      "    /|\n",
      "   / |\n",
      "  /  |\n",
      " /   |\n",
      "/____|\n"
     ]
    }
   ],
   "source": [
    "#printitng a triangle using print statement\n",
    "\n",
    "print(\"    /|\")\n",
    "print(\"   / |\")\n",
    "print(\"  /  |\")\n",
    "print(\" /   |\")\n",
    "print(\"/____|\")"
   ]
  },
  {
   "cell_type": "code",
   "execution_count": 8,
   "id": "851d5e2e",
   "metadata": {},
   "outputs": [
    {
     "name": "stdout",
     "output_type": "stream",
     "text": [
      "hello my name is Maitreya\n",
      "I am  21  years old\n"
     ]
    }
   ],
   "source": [
    "#variables\n",
    "\n",
    "name=\"Maitreya\"     #string\n",
    "age=21        #integer\n",
    "print(\"hello my name is \"+name)   #concatenation operator only works for strings\n",
    "print(\"I am \",age,\" years old\")   #comma works for all datatypes"
   ]
  },
  {
   "cell_type": "code",
   "execution_count": 10,
   "id": "d8c9efbe",
   "metadata": {},
   "outputs": [
    {
     "name": "stdout",
     "output_type": "stream",
     "text": [
      "\"Hello friends\"\n"
     ]
    }
   ],
   "source": [
    "#to add quotation mark in a string use \\ before the quotation mark \n",
    "\n",
    "print(\"\\\"Hello friends\\\"\")"
   ]
  },
  {
   "cell_type": "code",
   "execution_count": 12,
   "id": "e5926028",
   "metadata": {},
   "outputs": [
    {
     "name": "stdout",
     "output_type": "stream",
     "text": [
      "maitreya\n",
      "MAITREYA\n",
      "False\n",
      "True\n"
     ]
    }
   ],
   "source": [
    "#functions on string-1\n",
    "\n",
    "name=\"Maitreya\"\n",
    "\n",
    "#convert to upper and lower case\n",
    "print(name.lower())\n",
    "print(name.upper())\n",
    "\n",
    "name=\"MAITREYA\"\n",
    "\n",
    "#checking if the string is in upper or lower case\n",
    "print(name.islower())\n",
    "print(name.isupper())"
   ]
  },
  {
   "cell_type": "code",
   "execution_count": 16,
   "id": "bf298482",
   "metadata": {},
   "outputs": [
    {
     "name": "stdout",
     "output_type": "stream",
     "text": [
      "8\n",
      "M\n",
      "0\n",
      "1\n"
     ]
    }
   ],
   "source": [
    "#functions on string-2\n",
    "\n",
    "name=\"Maitreya\"\n",
    "\n",
    "#length of the string\n",
    "print(len(name))\n",
    "\n",
    "#individual character in a string\n",
    "print(name[0])        #indexing starts from 0\n",
    "\n",
    "#find index of a character\n",
    "print(name.index(\"M\"))\n",
    "\n",
    "#above function will also tell you where a substring starts\n",
    "print(name.index(\"ait\"))"
   ]
  },
  {
   "cell_type": "code",
   "execution_count": 17,
   "id": "3e1cad95",
   "metadata": {},
   "outputs": [
    {
     "name": "stdout",
     "output_type": "stream",
     "text": [
      "Chinmaya is awesome\n"
     ]
    }
   ],
   "source": [
    "#functions on string-2\n",
    "\n",
    "name=\"Maitreya is awesome\"\n",
    "new_name=\"Chinmaya\"\n",
    "\n",
    "#replace function accepts 2 parameters\n",
    "print(name.replace(\"Maitreya\",new_name))\n",
    "#parameter1->string/char to be replaced by parameter2\n",
    "#parameter2->string/char that will replace parameter1"
   ]
  },
  {
   "cell_type": "code",
   "execution_count": 23,
   "id": "2d42749c",
   "metadata": {},
   "outputs": [
    {
     "name": "stdout",
     "output_type": "stream",
     "text": [
      "5\n",
      "5\n",
      "22.5566\n",
      "5.0\n",
      "1\n",
      "27\n"
     ]
    }
   ],
   "source": [
    "#Numbers\n",
    "\n",
    "num=5\n",
    "print(num)\n",
    "\n",
    "print(5)\n",
    "print(22.5566)\n",
    "\n",
    "#arithmetic operations\n",
    "print(10/2)\n",
    "print(25%4)\n",
    "print(3*(5+4))"
   ]
  },
  {
   "cell_type": "code",
   "execution_count": 22,
   "id": "2930fb3c",
   "metadata": {},
   "outputs": [
    {
     "name": "stdout",
     "output_type": "stream",
     "text": [
      "5\n"
     ]
    }
   ],
   "source": [
    "#int to string conversion\n",
    "num=5\n",
    "\n",
    "print(str(num))\n",
    "#the output will now be in string"
   ]
  },
  {
   "cell_type": "code",
   "execution_count": 29,
   "id": "1b56e26b",
   "metadata": {},
   "outputs": [
    {
     "name": "stdout",
     "output_type": "stream",
     "text": [
      "2\n",
      "25\n",
      "6\n",
      "4\n",
      "3\n",
      "4\n"
     ]
    }
   ],
   "source": [
    "#functions on numbers\n",
    "\n",
    "#absolute function\n",
    "num=-2\n",
    "print(abs(num))\n",
    "\n",
    "#power function\n",
    "num=5\n",
    "power=2\n",
    "print(pow(num,power))\n",
    "\n",
    "#max function(return max value of the given 2 inputs)\n",
    "print(max(4,6))\n",
    "\n",
    "#min function(return min value of the given 2 inputs)\n",
    "print(min(4,6))\n",
    "\n",
    "#rounding a number\n",
    "print(round(3.3))\n",
    "print(round(3.8))"
   ]
  },
  {
   "cell_type": "code",
   "execution_count": 2,
   "id": "1ef83f60",
   "metadata": {},
   "outputs": [
    {
     "name": "stdout",
     "output_type": "stream",
     "text": [
      "Enter your name : Maitreya\n",
      "Hello Maitreya\n"
     ]
    }
   ],
   "source": [
    "#taking input from user\n",
    "name=input(\"Enter your name : \")\n",
    "print(\"Hello \"+name)"
   ]
  },
  {
   "cell_type": "code",
   "execution_count": 5,
   "id": "4ee798fa",
   "metadata": {},
   "outputs": [
    {
     "name": "stdout",
     "output_type": "stream",
     "text": [
      "Enter num1 : 5\n",
      "Enter num2 : 8.3\n",
      "13.3\n"
     ]
    }
   ],
   "source": [
    "#Adding numbers taken as input form user\n",
    "num1=float(input(\"Enter num1 : \"))\n",
    "num2=float(input(\"Enter num2 : \"))     \n",
    "#if you dont specify the datatype whilst inputing the numbers then they will be considered as strings and the concatenation operation will take place\n",
    "\n",
    "sum=num1+num2\n",
    "print(sum)"
   ]
  },
  {
   "cell_type": "code",
   "execution_count": null,
   "id": "7cf307a2",
   "metadata": {},
   "outputs": [],
   "source": []
  }
 ],
 "metadata": {
  "kernelspec": {
   "display_name": "Python 3",
   "language": "python",
   "name": "python3"
  },
  "language_info": {
   "codemirror_mode": {
    "name": "ipython",
    "version": 3
   },
   "file_extension": ".py",
   "mimetype": "text/x-python",
   "name": "python",
   "nbconvert_exporter": "python",
   "pygments_lexer": "ipython3",
   "version": "3.8.8"
  }
 },
 "nbformat": 4,
 "nbformat_minor": 5
}
