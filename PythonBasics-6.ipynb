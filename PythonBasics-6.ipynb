{
 "cells": [
  {
   "cell_type": "code",
   "execution_count": 1,
   "id": "eb0a26c3",
   "metadata": {},
   "outputs": [],
   "source": [
    "#Dictionaries"
   ]
  },
  {
   "cell_type": "code",
   "execution_count": 2,
   "id": "c2f96321",
   "metadata": {},
   "outputs": [],
   "source": [
    "#dictionaries store data in key-value pair"
   ]
  },
  {
   "cell_type": "code",
   "execution_count": 25,
   "id": "bc05e7ce",
   "metadata": {},
   "outputs": [],
   "source": [
    "#defining a dictionary\n",
    "alphanumeric={\n",
    "    \"a\":\"1\",\n",
    "    \"b\":\"2\",\n",
    "    \"c\":\"3\",\n",
    "    \"d\":\"4\",\n",
    "    \"e\":\"5\"\n",
    "}\n",
    "#\"<key>\"\":\"<value>\" ,To the left of the colon is the key and to the right of the colon is the value\n",
    "#the key has to be unique but the value may or may not be unique"
   ]
  },
  {
   "cell_type": "code",
   "execution_count": 7,
   "id": "d35a7925",
   "metadata": {},
   "outputs": [
    {
     "name": "stdout",
     "output_type": "stream",
     "text": [
      "{'a': '1', 'b': '2', 'c': '3', 'd': '4', 'e': '5'}\n"
     ]
    }
   ],
   "source": [
    "#printing a dictionary\n",
    "print(alphanumeric)"
   ]
  },
  {
   "cell_type": "code",
   "execution_count": 8,
   "id": "92ad73a1",
   "metadata": {},
   "outputs": [
    {
     "name": "stdout",
     "output_type": "stream",
     "text": [
      "1\n",
      "1\n"
     ]
    }
   ],
   "source": [
    "#printing value to corresponding key\n",
    "\n",
    "#direct method\n",
    "print(alphanumeric[\"a\"])\n",
    "\n",
    "#get function method\n",
    "print(alphanumeric.get(\"a\"))"
   ]
  },
  {
   "cell_type": "code",
   "execution_count": 10,
   "id": "e1860832",
   "metadata": {},
   "outputs": [
    {
     "name": "stdout",
     "output_type": "stream",
     "text": [
      "1\n",
      "Not a valid key\n"
     ]
    }
   ],
   "source": [
    "#default value to be printed if key is not found\n",
    "\n",
    "#default value can be used only with the get function\n",
    "#the default value needs to be passed as the 2nd input to the get function\n",
    "\n",
    "#case 1:we will be using a valid key\n",
    "print(alphanumeric.get(\"a\",\"Not a valid key\"))\n",
    "\n",
    "#case 2:we will be using an invalid key\n",
    "print(alphanumeric.get(\"f\",\"Not a valid key\"))"
   ]
  },
  {
   "cell_type": "code",
   "execution_count": 27,
   "id": "dd26d84c",
   "metadata": {},
   "outputs": [
    {
     "name": "stdout",
     "output_type": "stream",
     "text": [
      "{'a': '0', 'b': '2', 'c': '3', 'd': '4', 'e': '5'}\n"
     ]
    }
   ],
   "source": [
    "#update a value in the dictionary using the update function\n",
    "alphanumeric.update({\"a\":\"0\"})\n",
    "print(alphanumeric)"
   ]
  },
  {
   "cell_type": "code",
   "execution_count": 28,
   "id": "e4408ed1",
   "metadata": {},
   "outputs": [
    {
     "name": "stdout",
     "output_type": "stream",
     "text": [
      "{'a': '0', 'b': '2', 'c': '3', 'd': '4', 'e': '5', 'h': '6'}\n"
     ]
    }
   ],
   "source": [
    "#add a value in the dictionary\n",
    "alphanumeric[\"h\"]=\"6\"\n",
    "print(alphanumeric)"
   ]
  },
  {
   "cell_type": "code",
   "execution_count": 29,
   "id": "ba44cd9c",
   "metadata": {},
   "outputs": [
    {
     "name": "stdout",
     "output_type": "stream",
     "text": [
      "{'b': '2', 'c': '3', 'd': '4', 'e': '5', 'h': '6'}\n",
      "{'b': '2', 'c': '3', 'd': '4', 'e': '5'}\n"
     ]
    }
   ],
   "source": [
    "#deleting a value from the dictionary\n",
    "del alphanumeric[\"a\"]\n",
    "print(alphanumeric)\n",
    "\n",
    "#deleting a value using pop function(pop function will delete the last value)\n",
    "alphanumeric.pop(\"h\",\"6\")\n",
    "print(alphanumeric)"
   ]
  }
 ],
 "metadata": {
  "kernelspec": {
   "display_name": "Python 3",
   "language": "python",
   "name": "python3"
  },
  "language_info": {
   "codemirror_mode": {
    "name": "ipython",
    "version": 3
   },
   "file_extension": ".py",
   "mimetype": "text/x-python",
   "name": "python",
   "nbconvert_exporter": "python",
   "pygments_lexer": "ipython3",
   "version": "3.8.8"
  }
 },
 "nbformat": 4,
 "nbformat_minor": 5
}
