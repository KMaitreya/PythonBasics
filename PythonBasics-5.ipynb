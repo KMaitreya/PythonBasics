{
 "cells": [
  {
   "cell_type": "code",
   "execution_count": 1,
   "id": "ee2d1aa3",
   "metadata": {},
   "outputs": [],
   "source": [
    "#If statement"
   ]
  },
  {
   "cell_type": "code",
   "execution_count": 2,
   "id": "b9c72c91",
   "metadata": {},
   "outputs": [],
   "source": [
    "#the if statement is a conditional ststement i.e. the output dependends upon the input and condition\n",
    "#there are 3 types of if statments-\n",
    "#  1)if\n",
    "#  2)if else\n",
    "#  3)id elif else"
   ]
  },
  {
   "cell_type": "code",
   "execution_count": 5,
   "id": "1708633b",
   "metadata": {},
   "outputs": [],
   "source": [
    "#syntax of if statement\n",
    "if <condition>:\n",
    "    //statement/s"
   ]
  },
  {
   "cell_type": "code",
   "execution_count": 6,
   "id": "f6c89c92",
   "metadata": {},
   "outputs": [
    {
     "name": "stdout",
     "output_type": "stream",
     "text": [
      "You are a male\n"
     ]
    }
   ],
   "source": [
    "#example 1 of if statement\n",
    "is_male=True\n",
    "\n",
    "if is_male:\n",
    "    print(\"You are a male\")"
   ]
  },
  {
   "cell_type": "code",
   "execution_count": 8,
   "id": "d8cfab1f",
   "metadata": {},
   "outputs": [
    {
     "name": "stdout",
     "output_type": "stream",
     "text": [
      "2 is greater than 1\n"
     ]
    }
   ],
   "source": [
    "#example 2 of if statment\n",
    "num=2\n",
    "if num>1:\n",
    "    print(str(num)+\" is greater than 1\")"
   ]
  },
  {
   "cell_type": "code",
   "execution_count": null,
   "id": "2f90e227",
   "metadata": {},
   "outputs": [],
   "source": [
    "#syntax of if else statement\n",
    "if <condition>:\n",
    "    //statement/s\n",
    "    \n",
    "else:\n",
    "    //statement/s"
   ]
  },
  {
   "cell_type": "code",
   "execution_count": 10,
   "id": "70e8d87d",
   "metadata": {},
   "outputs": [
    {
     "name": "stdout",
     "output_type": "stream",
     "text": [
      "You are not a male\n"
     ]
    }
   ],
   "source": [
    "#example 1 of if else statement\n",
    "is_male=False\n",
    "\n",
    "if is_male:\n",
    "    print(\"You are a male\")\n",
    "    \n",
    "else:\n",
    "    print(\"You are not a male\")"
   ]
  },
  {
   "cell_type": "code",
   "execution_count": 11,
   "id": "fb64b05a",
   "metadata": {},
   "outputs": [
    {
     "name": "stdout",
     "output_type": "stream",
     "text": [
      "-1 is less than 1\n"
     ]
    }
   ],
   "source": [
    "#example 2 of if statment\n",
    "num=-1\n",
    "\n",
    "if num>1:\n",
    "    print(str(num)+\" is greater than 1\")\n",
    "    \n",
    "else:\n",
    "    print(str(num)+\" is less than 1\")"
   ]
  },
  {
   "cell_type": "code",
   "execution_count": null,
   "id": "d073a2a7",
   "metadata": {},
   "outputs": [],
   "source": [
    "#syntax of if elif else statement\n",
    "if <condition>:\n",
    "    //statement/s\n",
    "    \n",
    "elif <condition>:           #else if is written as elif\n",
    "    //statement/s\n",
    "    \n",
    "else:\n",
    "    //statement/s\n",
    "    \n",
    "#the user can add n number of else if lines in the program"
   ]
  },
  {
   "cell_type": "code",
   "execution_count": 15,
   "id": "6bdec6a5",
   "metadata": {},
   "outputs": [
    {
     "name": "stdout",
     "output_type": "stream",
     "text": [
      "-1 is equal to -1\n"
     ]
    }
   ],
   "source": [
    "#example of if elif else statment\n",
    "num=-1\n",
    "\n",
    "if num>1:\n",
    "    print(str(num)+\" is greater than 1\")\n",
    "    \n",
    "elif (num==-1):\n",
    "    print(str(num)+\" is equal to -1\")\n",
    "    \n",
    "else:\n",
    "    print(str(num)+\" is less than 1\")"
   ]
  },
  {
   "cell_type": "code",
   "execution_count": null,
   "id": "2e659fb3",
   "metadata": {},
   "outputs": [],
   "source": [
    "#you can also use operators such and or, and, not in the condition"
   ]
  },
  {
   "cell_type": "code",
   "execution_count": 16,
   "id": "fcdf441a",
   "metadata": {},
   "outputs": [
    {
     "name": "stdout",
     "output_type": "stream",
     "text": [
      "You are a male or tall or both\n"
     ]
    }
   ],
   "source": [
    "#example using or operator\n",
    "is_male=True\n",
    "is_tall=True\n",
    "\n",
    "if is_male or is_tall:\n",
    "    print(\"You are a male or tall or both\")\n",
    "    \n",
    "else:\n",
    "    print(\"You are neither male nor tall\")"
   ]
  },
  {
   "cell_type": "code",
   "execution_count": 18,
   "id": "ca9ef721",
   "metadata": {},
   "outputs": [
    {
     "name": "stdout",
     "output_type": "stream",
     "text": [
      "You are a male and tall\n"
     ]
    }
   ],
   "source": [
    "#example using and operator\n",
    "is_male=True\n",
    "is_tall=True\n",
    "\n",
    "if is_male and is_tall:\n",
    "    print(\"You are a male and tall\")\n",
    "    \n",
    "else:\n",
    "    print(\"You are either not male or not tall or both\")"
   ]
  },
  {
   "cell_type": "code",
   "execution_count": 20,
   "id": "2f66a41b",
   "metadata": {},
   "outputs": [
    {
     "name": "stdout",
     "output_type": "stream",
     "text": [
      "You are not a male\n"
     ]
    }
   ],
   "source": [
    "#example using not operator\n",
    "is_male=False\n",
    "\n",
    "if not(is_male):\n",
    "    print(\"You are not a male\")\n",
    "    \n",
    "else:\n",
    "    print(\"You are a male\")"
   ]
  }
 ],
 "metadata": {
  "kernelspec": {
   "display_name": "Python 3",
   "language": "python",
   "name": "python3"
  },
  "language_info": {
   "codemirror_mode": {
    "name": "ipython",
    "version": 3
   },
   "file_extension": ".py",
   "mimetype": "text/x-python",
   "name": "python",
   "nbconvert_exporter": "python",
   "pygments_lexer": "ipython3",
   "version": "3.8.8"
  }
 },
 "nbformat": 4,
 "nbformat_minor": 5
}
