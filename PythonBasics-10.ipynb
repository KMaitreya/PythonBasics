{
 "cells": [
  {
   "cell_type": "code",
   "execution_count": 16,
   "id": "2e579c59",
   "metadata": {},
   "outputs": [],
   "source": [
    "#Classes and Objects\n",
    "#A class is used to model things"
   ]
  },
  {
   "cell_type": "code",
   "execution_count": 18,
   "id": "be94ac32",
   "metadata": {},
   "outputs": [],
   "source": [
    "#syntax of class\n",
    "class <classname>:\n",
    "    def __init__(self, argument/s):         #initialize function\n",
    "        #self.attribute/s=attribute/s\n",
    "    #function/s"
   ]
  },
  {
   "cell_type": "code",
   "execution_count": 19,
   "id": "b8afd1a9",
   "metadata": {},
   "outputs": [
    {
     "name": "stdout",
     "output_type": "stream",
     "text": [
      "3.1\n",
      "Business\n"
     ]
    }
   ],
   "source": [
    "#example of class\n",
    "class Student:\n",
    "    def __init__(self, name, major, gpa, is_on_probation):\n",
    "        self.name=name\n",
    "        self.major=major\n",
    "        self.gpa=gpa\n",
    "        self.is_on_probation=is_on_probation\n",
    "        \n",
    "student1=Student(\"jim\", \"Business\", 3.1, False)\n",
    "#student1 is the object of class Student\n",
    "#we can make multiple objects of one class\n",
    " \n",
    "#to print individual elements of a fucntion in a class\n",
    "#print(objectname.attributes)\n",
    "\n",
    "print(student1.gpa)\n",
    "print(student1.major)"
   ]
  },
  {
   "cell_type": "code",
   "execution_count": 20,
   "id": "6acba8ca",
   "metadata": {},
   "outputs": [
    {
     "name": "stdout",
     "output_type": "stream",
     "text": [
      "Pamela\n",
      "2.9\n"
     ]
    }
   ],
   "source": [
    "#we will create another object for the class Student\n",
    "student2=Student(\"Pamela\", \"Arts\", 2.9, True)\n",
    "print(student2.name)\n",
    "print(student2.gpa)"
   ]
  },
  {
   "cell_type": "code",
   "execution_count": 21,
   "id": "32382a29",
   "metadata": {},
   "outputs": [],
   "source": [
    "#A class has a function called __init__(initilaization function) which will initialize all the class attributes\n",
    "#A class can have multiple objects\n",
    "#A class is like a separate entity\n",
    "#You can add other function to a class"
   ]
  },
  {
   "cell_type": "code",
   "execution_count": 23,
   "id": "2b06e09f",
   "metadata": {},
   "outputs": [
    {
     "name": "stdout",
     "output_type": "stream",
     "text": [
      "False\n",
      "True\n"
     ]
    }
   ],
   "source": [
    "#Object functions\n",
    "class Student:\n",
    "    def __init__(self, name, major, gpa, is_on_probation):\n",
    "        self.name=name\n",
    "        self.major=major\n",
    "        self.gpa=gpa\n",
    "    \n",
    "    #Function inside the class to check if student is on honour roll\n",
    "    def honour_roll(self):\n",
    "        if self.gpa>=3.5:\n",
    "            return True\n",
    "        else:\n",
    "            return False\n",
    "\n",
    "student1=Student(\"jim\", \"Business\", 3.1, False)\n",
    "student2=Student(\"Pamela\", \"Arts\", 3.9, True)\n",
    "\n",
    "#checking if our function works\n",
    "print(student1.honour_roll())\n",
    "print(student2.honour_roll())"
   ]
  },
  {
   "cell_type": "code",
   "execution_count": null,
   "id": "943c90d7",
   "metadata": {},
   "outputs": [],
   "source": []
  }
 ],
 "metadata": {
  "kernelspec": {
   "display_name": "Python 3",
   "language": "python",
   "name": "python3"
  },
  "language_info": {
   "codemirror_mode": {
    "name": "ipython",
    "version": 3
   },
   "file_extension": ".py",
   "mimetype": "text/x-python",
   "name": "python",
   "nbconvert_exporter": "python",
   "pygments_lexer": "ipython3",
   "version": "3.8.8"
  }
 },
 "nbformat": 4,
 "nbformat_minor": 5
}
