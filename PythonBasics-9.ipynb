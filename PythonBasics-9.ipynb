{
 "cells": [
  {
   "cell_type": "code",
   "execution_count": 1,
   "id": "f7dabadc",
   "metadata": {},
   "outputs": [],
   "source": [
    "#Files in python"
   ]
  },
  {
   "cell_type": "code",
   "execution_count": 2,
   "id": "97e94785",
   "metadata": {},
   "outputs": [],
   "source": [
    "#Reading files"
   ]
  },
  {
   "cell_type": "code",
   "execution_count": null,
   "id": "e2dacb1c",
   "metadata": {},
   "outputs": [],
   "source": [
    "#syntax of opening the file\n",
    "<variable>=open(\"<path of the file>\", \"<mode>\")\n",
    "\n",
    "#path of the file depends on where the file is stored\n",
    "#all the contents of the file will be stored in the <varible>"
   ]
  },
  {
   "cell_type": "code",
   "execution_count": 1,
   "id": "482ee85d",
   "metadata": {},
   "outputs": [],
   "source": [
    "#types of modes-\n",
    "#1)w->writing mode(change data in the file)\n",
    "#2)a->append mode(add data to the end of the file but cannot chnage existing data\n",
    "#3)r->read mode(read data from a file but cannot make any changes)\n",
    "#4)r+->read and write mode(combination of r and w)"
   ]
  },
  {
   "cell_type": "code",
   "execution_count": null,
   "id": "55930ac3",
   "metadata": {},
   "outputs": [],
   "source": [
    "#whenever we open a file we have to close it after using the file\n",
    "#syntax to close the file\n",
    "<varible>.close()"
   ]
  },
  {
   "cell_type": "code",
   "execution_count": 46,
   "id": "7c763765",
   "metadata": {},
   "outputs": [],
   "source": [
    "#example of opening a file\n",
    "\n",
    "file=open(r\"C:\\Users\\Maitreya\\JupyterNotebooks\\TextFiles\\filebasics.txt\", \"r\")\n",
    "#sometimes you have to put r before your file path to convert it to raw string"
   ]
  },
  {
   "cell_type": "code",
   "execution_count": 47,
   "id": "b7df610e",
   "metadata": {},
   "outputs": [
    {
     "name": "stdout",
     "output_type": "stream",
     "text": [
      "True\n"
     ]
    }
   ],
   "source": [
    "#making sure if the file is readable, the readable function is used for this\n",
    "print(file.readable())\n",
    "\n",
    "#this function will give true if the mode is r/r+ else it will give false"
   ]
  },
  {
   "cell_type": "code",
   "execution_count": 48,
   "id": "60951484",
   "metadata": {},
   "outputs": [
    {
     "name": "stdout",
     "output_type": "stream",
     "text": [
      "Hello guys welcome to the notebook for reading files.\n",
      "I hope that you enjoy this and have a wonderful time.\n",
      "This is a very important lesson in python basics.\n",
      "I hope that you learn well and implement this successfully.\n",
      "\n"
     ]
    }
   ],
   "source": [
    "#printing contents of the file\n",
    "print(file.read())\n",
    "file.close()"
   ]
  },
  {
   "cell_type": "code",
   "execution_count": 49,
   "id": "241810eb",
   "metadata": {},
   "outputs": [
    {
     "name": "stdout",
     "output_type": "stream",
     "text": [
      "Hello guys welcome to the notebook for reading files.\n",
      "\n"
     ]
    }
   ],
   "source": [
    "#to print separate lines we use the readlines function\n",
    "#the function will put the every line as an element in a list\n",
    "#to print the first line\n",
    "file=open(r\"C:\\Users\\Maitreya\\JupyterNotebooks\\TextFiles\\filebasics.txt\", \"r\")\n",
    "print(file.readlines()[0])\n",
    "file.close()\n",
    "\n",
    "#to print more lines we will print the statement again"
   ]
  },
  {
   "cell_type": "code",
   "execution_count": 1,
   "id": "55a48d79",
   "metadata": {},
   "outputs": [
    {
     "name": "stdout",
     "output_type": "stream",
     "text": [
      "Hello guys welcome to the notebook for reading files.\n",
      "\n",
      "I hope that you enjoy this and have a wonderful time.\n",
      "\n",
      "This is a very important lesson in python basics.\n",
      "\n",
      "I hope that you learn well and implement this successfully.\n",
      "\n"
     ]
    }
   ],
   "source": [
    "#we can also use a loop to print all the lines using readline\n",
    "file=open(r\"C:\\Users\\Maitreya\\JupyterNotebooks\\TextFiles\\filebasics.txt\", \"r\")\n",
    "for line in file.readlines():\n",
    "    print(line)\n",
    "file.close()"
   ]
  },
  {
   "cell_type": "code",
   "execution_count": 51,
   "id": "ef032faf",
   "metadata": {},
   "outputs": [],
   "source": [
    "#Writing to files"
   ]
  },
  {
   "cell_type": "code",
   "execution_count": 7,
   "id": "7ed49895",
   "metadata": {},
   "outputs": [
    {
     "name": "stdout",
     "output_type": "stream",
     "text": [
      "Hello guys welcome to the notebook for reading files.\n",
      "I hope that you enjoy this and have a wonderful time.\n",
      "This is a very important lesson in python basics.\n",
      "I hope that you learn well and implement this successfully.\n",
      "Python is a fun language.\n"
     ]
    }
   ],
   "source": [
    "#appending data to a file\n",
    "file=open(r\"C:\\Users\\Maitreya\\JupyterNotebooks\\TextFiles\\filebasics.txt\", \"a\")\n",
    "file.write(\"\\nPython is a fun language.\")          #adding this line to the file, \\n will print data on a new line\n",
    "file.close()\n",
    "#as we are using append mode we won't be able to delete previously written content\n",
    "\n",
    "file=open(r\"C:\\Users\\Maitreya\\JupyterNotebooks\\TextFiles\\filebasics.txt\", \"r\")\n",
    "print(file.read())\n",
    "file.close()"
   ]
  },
  {
   "cell_type": "code",
   "execution_count": 10,
   "id": "c117ace9",
   "metadata": {},
   "outputs": [
    {
     "name": "stdout",
     "output_type": "stream",
     "text": [
      "Python is a fun language.\n"
     ]
    }
   ],
   "source": [
    "#writing data to a file\n",
    "file=open(r\"C:\\Users\\Maitreya\\JupyterNotebooks\\TextFiles\\filebasics.txt\", \"w\")\n",
    "file.write(\"Python is a fun language.\")\n",
    "file.close()\n",
    "\n",
    "#using writing mode will delete all previous data in the file and add the given data in the file\n",
    "file=open(r\"C:\\Users\\Maitreya\\JupyterNotebooks\\TextFiles\\filebasics.txt\", \"r\")\n",
    "print(file.read())\n",
    "file.close()"
   ]
  },
  {
   "cell_type": "code",
   "execution_count": 11,
   "id": "1cc0acd2",
   "metadata": {},
   "outputs": [
    {
     "name": "stdout",
     "output_type": "stream",
     "text": [
      "Python is a fun language.\n"
     ]
    }
   ],
   "source": [
    "#writing mode is also used to create a new file\n",
    "#lets cretae a new file called filebasics1 and add some data into it\n",
    "file=open(r\"C:\\Users\\Maitreya\\JupyterNotebooks\\TextFiles\\filebasics1.txt\", \"w\")\n",
    "file.write(\"Python is very easy to learn.\")\n",
    "file.close()\n",
    "\n",
    "#using writing mode will delete all previous data in the file and add the given data in the file\n",
    "file=open(r\"C:\\Users\\Maitreya\\JupyterNotebooks\\TextFiles\\filebasics.txt\", \"r\")\n",
    "print(file.read())\n",
    "file.close()"
   ]
  },
  {
   "cell_type": "code",
   "execution_count": null,
   "id": "c6bc7a87",
   "metadata": {},
   "outputs": [],
   "source": [
    "#you can create a file with any extension and add data into it."
   ]
  }
 ],
 "metadata": {
  "kernelspec": {
   "display_name": "Python 3",
   "language": "python",
   "name": "python3"
  },
  "language_info": {
   "codemirror_mode": {
    "name": "ipython",
    "version": 3
   },
   "file_extension": ".py",
   "mimetype": "text/x-python",
   "name": "python",
   "nbconvert_exporter": "python",
   "pygments_lexer": "ipython3",
   "version": "3.8.8"
  }
 },
 "nbformat": 4,
 "nbformat_minor": 5
}
