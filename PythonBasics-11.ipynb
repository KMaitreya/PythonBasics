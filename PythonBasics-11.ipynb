{
 "cells": [
  {
   "cell_type": "code",
   "execution_count": 1,
   "id": "c45ea6b5",
   "metadata": {},
   "outputs": [],
   "source": [
    "#Inheritance\n",
    "#in this concept functionsa of the parent class can be used by child class"
   ]
  },
  {
   "cell_type": "code",
   "execution_count": 2,
   "id": "63d74d0c",
   "metadata": {},
   "outputs": [],
   "source": [
    "#parent class-\n",
    "class Chef():\n",
    "    \n",
    "    def make_dish(self):\n",
    "        print(\"The chef has made a burger\")\n",
    "        \n",
    "    def make_special_dish(self):\n",
    "        print(\"The chef has made pasta\")\n",
    "        \n",
    "    def make_sweet_dish(self):\n",
    "        print(\"The chef has made an ice-cream\")"
   ]
  },
  {
   "cell_type": "code",
   "execution_count": 3,
   "id": "c50f046a",
   "metadata": {},
   "outputs": [],
   "source": [
    "#child class-\n",
    "#this class will inherit the properties of it's parent class\n",
    "class NewChef(Chef):            #we will pass name of parent class as argument to the child class\n",
    "    \n",
    "    def make_momos(self):\n",
    "        print(\"The chef has made momos\")"
   ]
  },
  {
   "cell_type": "code",
   "execution_count": 4,
   "id": "d3192019",
   "metadata": {},
   "outputs": [],
   "source": [
    "#Now the child class(NewChef) will be able to access functions of the parent class(Chef)"
   ]
  },
  {
   "cell_type": "code",
   "execution_count": 9,
   "id": "b439d32c",
   "metadata": {},
   "outputs": [
    {
     "name": "stdout",
     "output_type": "stream",
     "text": [
      "The chef has made a burger\n",
      "The chef has made pasta\n",
      "\n",
      "\n",
      "The chef has made a burger\n",
      "The chef has made pasta\n"
     ]
    }
   ],
   "source": [
    "#accessing parent fucntions\n",
    "chefObj=Chef()\n",
    "chefObj.make_dish()\n",
    "chefObj.make_special_dish()\n",
    "\n",
    "print(\"\\n\")\n",
    "\n",
    "newChefObj=NewChef()\n",
    "newChefObj.make_dish()\n",
    "newChefObj.make_special_dish()"
   ]
  },
  {
   "cell_type": "code",
   "execution_count": 11,
   "id": "02264f6a",
   "metadata": {},
   "outputs": [
    {
     "ename": "AttributeError",
     "evalue": "'Chef' object has no attribute 'make_momos'",
     "output_type": "error",
     "traceback": [
      "\u001b[1;31m---------------------------------------------------------------------------\u001b[0m",
      "\u001b[1;31mAttributeError\u001b[0m                            Traceback (most recent call last)",
      "\u001b[1;32m<ipython-input-11-45bcbde19b68>\u001b[0m in \u001b[0;36m<module>\u001b[1;34m\u001b[0m\n\u001b[0;32m      1\u001b[0m \u001b[1;31m#The parent class wont be able to access functions that are unique to the child class\u001b[0m\u001b[1;33m\u001b[0m\u001b[1;33m\u001b[0m\u001b[1;33m\u001b[0m\u001b[0m\n\u001b[0;32m      2\u001b[0m \u001b[0mchefObj\u001b[0m\u001b[1;33m=\u001b[0m\u001b[0mChef\u001b[0m\u001b[1;33m(\u001b[0m\u001b[1;33m)\u001b[0m\u001b[1;33m\u001b[0m\u001b[1;33m\u001b[0m\u001b[0m\n\u001b[1;32m----> 3\u001b[1;33m \u001b[0mchefObj\u001b[0m\u001b[1;33m.\u001b[0m\u001b[0mmake_momos\u001b[0m\u001b[1;33m(\u001b[0m\u001b[1;33m)\u001b[0m\u001b[1;33m\u001b[0m\u001b[1;33m\u001b[0m\u001b[0m\n\u001b[0m\u001b[0;32m      4\u001b[0m \u001b[1;33m\u001b[0m\u001b[0m\n\u001b[0;32m      5\u001b[0m \u001b[0mnewChefObj\u001b[0m\u001b[1;33m=\u001b[0m\u001b[0mNewChef\u001b[0m\u001b[1;33m(\u001b[0m\u001b[1;33m)\u001b[0m\u001b[1;33m\u001b[0m\u001b[1;33m\u001b[0m\u001b[0m\n",
      "\u001b[1;31mAttributeError\u001b[0m: 'Chef' object has no attribute 'make_momos'"
     ]
    }
   ],
   "source": [
    "#The parent class wont be able to access functions that are unique to the child class\n",
    "chefObj=Chef()\n",
    "chefObj.make_momos()"
   ]
  },
  {
   "cell_type": "code",
   "execution_count": 12,
   "id": "a8b5e252",
   "metadata": {},
   "outputs": [
    {
     "name": "stdout",
     "output_type": "stream",
     "text": [
      "The chef has made momos\n"
     ]
    }
   ],
   "source": [
    "#Only child class will be able to access those functions\n",
    "newChefObj=NewChef()\n",
    "newChefObj.make_momos()"
   ]
  }
 ],
 "metadata": {
  "kernelspec": {
   "display_name": "Python 3",
   "language": "python",
   "name": "python3"
  },
  "language_info": {
   "codemirror_mode": {
    "name": "ipython",
    "version": 3
   },
   "file_extension": ".py",
   "mimetype": "text/x-python",
   "name": "python",
   "nbconvert_exporter": "python",
   "pygments_lexer": "ipython3",
   "version": "3.8.8"
  }
 },
 "nbformat": 4,
 "nbformat_minor": 5
}
