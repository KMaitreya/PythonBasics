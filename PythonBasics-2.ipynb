{
 "cells": [
  {
   "cell_type": "code",
   "execution_count": null,
   "id": "d84a40b0",
   "metadata": {},
   "outputs": [],
   "source": [
    "#Lists\n",
    "#I've used strings in a list as examples but the same will work with numbers"
   ]
  },
  {
   "cell_type": "code",
   "execution_count": 7,
   "id": "5bf894f0",
   "metadata": {},
   "outputs": [],
   "source": [
    "#elements in a list can be of any datatype\n",
    "friends=[\"kevin\", \"karen\", \"jim\", \"alan\", \"thomas\", \"amy\"]\n",
    "#index    0        1        2      3       4         5       (Indexing from left side)\n",
    "#index   -6       -5       -4     -3      -2        -1       (Indexing from right side)"
   ]
  },
  {
   "cell_type": "code",
   "execution_count": 8,
   "id": "1984b577",
   "metadata": {},
   "outputs": [
    {
     "name": "stdout",
     "output_type": "stream",
     "text": [
      "['kevin', 'karen', 'jim', 'alan', 'thomas', 'amy']\n"
     ]
    }
   ],
   "source": [
    "#printing complete list\n",
    "print(friends)"
   ]
  },
  {
   "cell_type": "code",
   "execution_count": 9,
   "id": "aaac0b78",
   "metadata": {},
   "outputs": [
    {
     "name": "stdout",
     "output_type": "stream",
     "text": [
      "kevin\n",
      "kevin\n"
     ]
    }
   ],
   "source": [
    "#accessing elements in a list\n",
    "print(friends[0])\n",
    "print(friends[-6])"
   ]
  },
  {
   "cell_type": "code",
   "execution_count": 10,
   "id": "24c0e3f2",
   "metadata": {},
   "outputs": [
    {
     "name": "stdout",
     "output_type": "stream",
     "text": [
      "['jim', 'alan', 'thomas']\n"
     ]
    }
   ],
   "source": [
    "#print certain elements\n",
    "print(friends[2:5])     #this will print elements from index 2 to 5(excluding 5)"
   ]
  },
  {
   "cell_type": "code",
   "execution_count": 11,
   "id": "039b7672",
   "metadata": {},
   "outputs": [
    {
     "name": "stdout",
     "output_type": "stream",
     "text": [
      "['kevin', 'karen', 'jim', 'alan', 'tyson', 'amy']\n"
     ]
    }
   ],
   "source": [
    "#updating values in a list\n",
    "friends[4]=\"tyson\"       #element numbaer 4 will now be updated to 'tyson'\n",
    "print(friends)"
   ]
  },
  {
   "cell_type": "code",
   "execution_count": 3,
   "id": "924d0c90",
   "metadata": {},
   "outputs": [
    {
     "name": "stdout",
     "output_type": "stream",
     "text": [
      "['kevin', 'karen', 'jim', 'alan', 'thomas', 'amy', 1, 2, 3, 4, 5, 6, 7, 8]\n"
     ]
    }
   ],
   "source": [
    "#concatenating 2 lists using extend function(it can append any two lists regardless of the datatype)\n",
    "friends=[\"kevin\", \"karen\", \"jim\", \"alan\", \"thomas\", \"amy\"]\n",
    "nums=[1, 2, 3, 4, 5, 6, 7, 8]\n",
    "friends.extend(nums)                   #the updated list will be stored in friends list\n",
    "print(friends)"
   ]
  },
  {
   "cell_type": "code",
   "execution_count": 7,
   "id": "c440114e",
   "metadata": {},
   "outputs": [
    {
     "name": "stdout",
     "output_type": "stream",
     "text": [
      "['kevin', 'karen', 'jim', 'alan', 'thomas', 'amy', 'chloe']\n",
      "['kevin', 'karen', 'jim', 'alan', 'thomas', 'amy', [1, 2, 3, 4, 5, 6, 7, 8]]\n"
     ]
    }
   ],
   "source": [
    "#add individual items to the list using append\n",
    "friends=[\"kevin\", \"karen\", \"jim\", \"alan\", \"thomas\", \"amy\"]\n",
    "friends.append(\"chloe\")\n",
    "print(friends)\n",
    "\n",
    "#you can also append entire lists as an element in another list\n",
    "friends=[\"kevin\", \"karen\", \"jim\", \"alan\", \"thomas\", \"amy\"]\n",
    "nums=[1, 2, 3, 4, 5, 6, 7, 8]\n",
    "friends.append(nums)                   #the updated list will be stored in friends list\n",
    "print(friends)"
   ]
  },
  {
   "cell_type": "code",
   "execution_count": 6,
   "id": "d3e6544e",
   "metadata": {},
   "outputs": [
    {
     "name": "stdout",
     "output_type": "stream",
     "text": [
      "['kevin', 'chloe', 'karen', 'jim', 'alan', 'thomas', 'amy']\n"
     ]
    }
   ],
   "source": [
    "#insert elements in a list using insert\n",
    "friends=[\"kevin\", \"karen\", \"jim\", \"alan\", \"thomas\", \"amy\"]\n",
    "friends.insert(1, \"chloe\")                  #adding chloe at index 1\n",
    "print(friends)"
   ]
  },
  {
   "cell_type": "code",
   "execution_count": 9,
   "id": "d0695389",
   "metadata": {},
   "outputs": [
    {
     "name": "stdout",
     "output_type": "stream",
     "text": [
      "['karen', 'jim', 'alan', 'thomas', 'amy']\n"
     ]
    }
   ],
   "source": [
    "#removing elemetns from using the remove function\n",
    "friends=[\"kevin\", \"karen\", \"jim\", \"alan\", \"thomas\", \"amy\"]\n",
    "friends.remove(\"kevin\");                   #the element which is stated will be removed\n",
    "print(friends)"
   ]
  },
  {
   "cell_type": "code",
   "execution_count": 11,
   "id": "9e35cb71",
   "metadata": {},
   "outputs": [
    {
     "name": "stdout",
     "output_type": "stream",
     "text": [
      "[]\n"
     ]
    }
   ],
   "source": [
    "#remove all items in the list\n",
    "friends=[\"kevin\", \"karen\", \"jim\", \"alan\", \"thomas\", \"amy\"]\n",
    "friends.clear()              #this will give us an empty list\n",
    "print(friends)"
   ]
  },
  {
   "cell_type": "code",
   "execution_count": 13,
   "id": "e0ee993b",
   "metadata": {},
   "outputs": [
    {
     "name": "stdout",
     "output_type": "stream",
     "text": [
      "['kevin', 'karen', 'jim', 'alan', 'thomas']\n"
     ]
    }
   ],
   "source": [
    "#pop function will remove the last element in the list\n",
    "friends=[\"kevin\", \"karen\", \"jim\", \"alan\", \"thomas\", \"amy\"]\n",
    "friends.pop()\n",
    "print(friends)\n",
    "\n",
    "#everytime pop is used one element of the list will deleted"
   ]
  },
  {
   "cell_type": "code",
   "execution_count": 14,
   "id": "0287c150",
   "metadata": {},
   "outputs": [
    {
     "name": "stdout",
     "output_type": "stream",
     "text": [
      "0\n"
     ]
    }
   ],
   "source": [
    "#index function will get retrieve the index of the element passed to the function\n",
    "friends=[\"kevin\", \"karen\", \"jim\", \"alan\", \"thomas\", \"amy\"]\n",
    "print(friends.index(\"kevin\"))"
   ]
  },
  {
   "cell_type": "code",
   "execution_count": 22,
   "id": "7a20098f",
   "metadata": {},
   "outputs": [
    {
     "name": "stdout",
     "output_type": "stream",
     "text": [
      "['alan', 'amy', 'jim', 'karen', 'kevin', 'thomas']\n",
      "['thomas', 'kevin', 'karen', 'jim', 'amy', 'alan']\n"
     ]
    }
   ],
   "source": [
    "#sort function will sort the list\n",
    "friends=[\"kevin\", \"karen\", \"jim\", \"alan\", \"thomas\", \"amy\"]\n",
    "\n",
    "#ascending order\n",
    "friends.sort()\n",
    "print(friends)\n",
    "\n",
    "#descending order\n",
    "friends.sort(reverse=True)\n",
    "print(friends)"
   ]
  },
  {
   "cell_type": "code",
   "execution_count": 17,
   "id": "f30ed425",
   "metadata": {},
   "outputs": [
    {
     "name": "stdout",
     "output_type": "stream",
     "text": [
      "2\n"
     ]
    }
   ],
   "source": [
    "#count function will count the number of time the given input occurs in the list\n",
    "friends=[\"kevin\", \"karen\", \"jim\", \"jim\", \"alan\", \"thomas\", \"amy\"]\n",
    "print(friends.count(\"jim\"))"
   ]
  },
  {
   "cell_type": "code",
   "execution_count": 18,
   "id": "834ae68a",
   "metadata": {},
   "outputs": [
    {
     "name": "stdout",
     "output_type": "stream",
     "text": [
      "['amy', 'thomas', 'alan', 'jim', 'karen', 'kevin']\n"
     ]
    }
   ],
   "source": [
    "#reverse a given list using the reverse function\n",
    "friends=[\"kevin\", \"karen\", \"jim\", \"alan\", \"thomas\", \"amy\"]\n",
    "friends.reverse()\n",
    "print(friends)"
   ]
  },
  {
   "cell_type": "code",
   "execution_count": 19,
   "id": "80497b60",
   "metadata": {},
   "outputs": [
    {
     "name": "stdout",
     "output_type": "stream",
     "text": [
      "['kevin', 'karen', 'jim', 'alan', 'thomas', 'amy']\n"
     ]
    }
   ],
   "source": [
    "#copy one list to another list using the copy function\n",
    "friends=[\"kevin\", \"karen\", \"jim\", \"alan\", \"thomas\", \"amy\"]\n",
    "friends2=friends.copy()\n",
    "print(friends2)"
   ]
  }
 ],
 "metadata": {
  "kernelspec": {
   "display_name": "Python 3",
   "language": "python",
   "name": "python3"
  },
  "language_info": {
   "codemirror_mode": {
    "name": "ipython",
    "version": 3
   },
   "file_extension": ".py",
   "mimetype": "text/x-python",
   "name": "python",
   "nbconvert_exporter": "python",
   "pygments_lexer": "ipython3",
   "version": "3.8.8"
  }
 },
 "nbformat": 4,
 "nbformat_minor": 5
}
