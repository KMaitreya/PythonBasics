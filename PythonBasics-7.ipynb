{
 "cells": [
  {
   "cell_type": "code",
   "execution_count": 1,
   "id": "33a38eb7",
   "metadata": {},
   "outputs": [],
   "source": [
    "#Loops\n",
    "#a loop executes the code repeatitively until the condition is satisfied"
   ]
  },
  {
   "cell_type": "code",
   "execution_count": null,
   "id": "9c9247f2",
   "metadata": {},
   "outputs": [],
   "source": [
    "#while loop\n",
    "#syntax\n",
    "<declaration/initialization>\n",
    "while <condition>:\n",
    "    //statements\n",
    "    <increment//decrement>"
   ]
  },
  {
   "cell_type": "code",
   "execution_count": 7,
   "id": "465bb2bc",
   "metadata": {},
   "outputs": [
    {
     "name": "stdout",
     "output_type": "stream",
     "text": [
      "Numbers from 1 to 10 : \n",
      "1\n",
      "2\n",
      "3\n",
      "4\n",
      "5\n",
      "6\n",
      "7\n",
      "8\n",
      "9\n",
      "10\n"
     ]
    }
   ],
   "source": [
    "#example 1 of while loop\n",
    "\n",
    "#printing number from 1 to 10\n",
    "print(\"Numbers from 1 to 10 : \")\n",
    "i=1;\n",
    "while i<=10:\n",
    "    print(i)\n",
    "    i+=1"
   ]
  },
  {
   "cell_type": "code",
   "execution_count": 6,
   "id": "25b03559",
   "metadata": {},
   "outputs": [
    {
     "name": "stdout",
     "output_type": "stream",
     "text": [
      "Numbers from 10 to 1 : \n",
      "10\n",
      "9\n",
      "8\n",
      "7\n",
      "6\n",
      "5\n",
      "4\n",
      "3\n",
      "2\n",
      "1\n"
     ]
    }
   ],
   "source": [
    "#example 2 of while loop\n",
    "\n",
    "#printing number from 10 to 1\n",
    "print(\"Numbers from 10 to 1 : \")\n",
    "i=10;\n",
    "while i>=1:\n",
    "    print(i)\n",
    "    i-=1"
   ]
  },
  {
   "cell_type": "code",
   "execution_count": null,
   "id": "0ec751dc",
   "metadata": {},
   "outputs": [],
   "source": [
    "#for loop\n",
    "#syntax\n",
    "for <variable> in <sequence>:\n",
    "    //statement/s"
   ]
  },
  {
   "cell_type": "code",
   "execution_count": 5,
   "id": "f336ea12",
   "metadata": {},
   "outputs": [
    {
     "name": "stdout",
     "output_type": "stream",
     "text": [
      "H\n",
      "e\n",
      "l\n",
      "l\n",
      "o\n",
      " \n",
      "g\n",
      "u\n",
      "y\n",
      "s\n"
     ]
    }
   ],
   "source": [
    "#example 1 of for loop\n",
    "\n",
    "#print letters in a word\n",
    "for letter in \"Hello guys\":\n",
    "    print(letter)"
   ]
  },
  {
   "cell_type": "code",
   "execution_count": 4,
   "id": "cc8cd405",
   "metadata": {},
   "outputs": [
    {
     "name": "stdout",
     "output_type": "stream",
     "text": [
      "kevin\n",
      "diana\n",
      "james\n"
     ]
    }
   ],
   "source": [
    "#example 2 of for loop\n",
    "\n",
    "#Printing elements from an array\n",
    "friends=[\"kevin\", \"diana\", \"james\"]\n",
    "for friend in friends:\n",
    "    print(friend)"
   ]
  },
  {
   "cell_type": "code",
   "execution_count": 9,
   "id": "dd1971cf",
   "metadata": {},
   "outputs": [
    {
     "name": "stdout",
     "output_type": "stream",
     "text": [
      "numbers from 0 to 5 : \n",
      "0\n",
      "1\n",
      "2\n",
      "3\n",
      "4\n",
      "5\n",
      "number from 6 to 10\n",
      "6\n",
      "7\n",
      "8\n",
      "9\n",
      "10\n"
     ]
    }
   ],
   "source": [
    "#using range function in for loop\n",
    "print(\"numbers from 0 to 5 : \")\n",
    "for num in range(6):\n",
    "    print(num)\n",
    "    \n",
    "#range function will start printing numbers from 0 to the number passed to the range function\n",
    "#the number passed in the range function will not be printed\n",
    "\n",
    "#range fucntion can be given both limits\n",
    "print(\"number from 6 to 10\")\n",
    "for num in range(6,11):\n",
    "    print(num)"
   ]
  },
  {
   "cell_type": "code",
   "execution_count": 10,
   "id": "459fc8c4",
   "metadata": {},
   "outputs": [
    {
     "name": "stdout",
     "output_type": "stream",
     "text": [
      "kevin\n",
      "diana\n",
      "james\n"
     ]
    }
   ],
   "source": [
    "#example of for loop using range function\n",
    "#Printing elements from an array\n",
    "friends=[\"kevin\", \"diana\", \"james\"]\n",
    "for friend in range(len(friends)):\n",
    "    print(friends[friend])"
   ]
  },
  {
   "cell_type": "code",
   "execution_count": 4,
   "id": "953f2bdf",
   "metadata": {},
   "outputs": [
    {
     "name": "stdout",
     "output_type": "stream",
     "text": [
      "1 2 3 \n",
      "4 5 6 \n",
      "7 8 9 \n",
      "0 \n"
     ]
    }
   ],
   "source": [
    "#Nested loops\n",
    "#we are using nested for loops to access elements in a 2d list\n",
    "grid=[\n",
    "    [1, 2, 3],\n",
    "    [4, 5, 6],\n",
    "    [7, 8, 9],\n",
    "    [0]\n",
    "]\n",
    "\n",
    "for row in grid:\n",
    "    for col in row:\n",
    "        print(col, end=\" \")\n",
    "    print(\"\")"
   ]
  }
 ],
 "metadata": {
  "kernelspec": {
   "display_name": "Python 3",
   "language": "python",
   "name": "python3"
  },
  "language_info": {
   "codemirror_mode": {
    "name": "ipython",
    "version": 3
   },
   "file_extension": ".py",
   "mimetype": "text/x-python",
   "name": "python",
   "nbconvert_exporter": "python",
   "pygments_lexer": "ipython3",
   "version": "3.8.8"
  }
 },
 "nbformat": 4,
 "nbformat_minor": 5
}
