{
 "cells": [
  {
   "cell_type": "code",
   "execution_count": 1,
   "id": "6aa7ec36",
   "metadata": {},
   "outputs": [],
   "source": [
    "#Tuples"
   ]
  },
  {
   "cell_type": "code",
   "execution_count": null,
   "id": "39746aa9",
   "metadata": {},
   "outputs": [],
   "source": [
    "#a tuple is basically a pair of two elements which are immutable i.e the elements cannot be changed.\n",
    "#a tuple requires round brackets and a list requires square brackets"
   ]
  },
  {
   "cell_type": "code",
   "execution_count": 4,
   "id": "9747ef82",
   "metadata": {},
   "outputs": [],
   "source": [
    "#creation of a tuple\n",
    "coordinates=(4, 5)  "
   ]
  },
  {
   "cell_type": "code",
   "execution_count": 5,
   "id": "7ec6d7f7",
   "metadata": {},
   "outputs": [
    {
     "name": "stdout",
     "output_type": "stream",
     "text": [
      "(4, 5)\n"
     ]
    }
   ],
   "source": [
    "#printing a tuple\n",
    "print(coordinates)"
   ]
  },
  {
   "cell_type": "code",
   "execution_count": 7,
   "id": "5d012a42",
   "metadata": {},
   "outputs": [
    {
     "name": "stdout",
     "output_type": "stream",
     "text": [
      "4\n",
      "5\n"
     ]
    }
   ],
   "source": [
    "#accessing individual element in a tuple\n",
    "\n",
    "#1st element\n",
    "print(coordinates[0])\n",
    "\n",
    "#2nd element\n",
    "print(coordinates[1])"
   ]
  },
  {
   "cell_type": "code",
   "execution_count": 8,
   "id": "6f06851e",
   "metadata": {},
   "outputs": [],
   "source": [
    "#string tuple\n",
    "fullname=(\"Winston\", \"Churchill\")"
   ]
  },
  {
   "cell_type": "code",
   "execution_count": 9,
   "id": "ac5549a4",
   "metadata": {},
   "outputs": [
    {
     "name": "stdout",
     "output_type": "stream",
     "text": [
      "('Winston', 'Churchill')\n"
     ]
    }
   ],
   "source": [
    "#printing a string tuple\n",
    "print(fullname)"
   ]
  },
  {
   "cell_type": "code",
   "execution_count": 10,
   "id": "a052c569",
   "metadata": {},
   "outputs": [
    {
     "name": "stdout",
     "output_type": "stream",
     "text": [
      "Winston\n",
      "Churchill\n"
     ]
    }
   ],
   "source": [
    "#accessing individual element in a tuple\n",
    "\n",
    "#1st element\n",
    "print(fullname[0])\n",
    "\n",
    "#2nd element\n",
    "print(fullname[1])"
   ]
  }
 ],
 "metadata": {
  "kernelspec": {
   "display_name": "Python 3",
   "language": "python",
   "name": "python3"
  },
  "language_info": {
   "codemirror_mode": {
    "name": "ipython",
    "version": 3
   },
   "file_extension": ".py",
   "mimetype": "text/x-python",
   "name": "python",
   "nbconvert_exporter": "python",
   "pygments_lexer": "ipython3",
   "version": "3.8.8"
  }
 },
 "nbformat": 4,
 "nbformat_minor": 5
}
