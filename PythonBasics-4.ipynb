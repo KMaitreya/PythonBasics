{
 "cells": [
  {
   "cell_type": "code",
   "execution_count": 1,
   "id": "04240ef6",
   "metadata": {},
   "outputs": [],
   "source": [
    "#Functions"
   ]
  },
  {
   "cell_type": "code",
   "execution_count": null,
   "id": "61b8e608",
   "metadata": {},
   "outputs": [],
   "source": [
    "#syntax to define a function\n",
    "def <function name>(<parameters>(optional)):\n",
    "    //code\n",
    "    return (optional statement)\n",
    "\n",
    "#calling a function\n",
    "variable_to_store_returned_data(optional)=<functionname>(<parameters>(optional))"
   ]
  },
  {
   "cell_type": "code",
   "execution_count": 2,
   "id": "fca4eb97",
   "metadata": {},
   "outputs": [
    {
     "name": "stdout",
     "output_type": "stream",
     "text": [
      "hello user\n"
     ]
    }
   ],
   "source": [
    "#defining a function(example)\n",
    "def say_hi():\n",
    "    print(\"hello user\")        #content of a function must be indented\n",
    "    \n",
    "\n",
    "#calling a function(use the function name)\n",
    "say_hi()"
   ]
  },
  {
   "cell_type": "code",
   "execution_count": 3,
   "id": "7b92bb2b",
   "metadata": {},
   "outputs": [
    {
     "name": "stdout",
     "output_type": "stream",
     "text": [
      "top\n",
      "middle\n",
      "bottom\n"
     ]
    }
   ],
   "source": [
    "#example code to understand flow of the program\n",
    "def middle():\n",
    "    print(\"middle\")\n",
    "    \n",
    "print(\"top\")\n",
    "middle()              #when the function is called the program will jump to the function\n",
    "print(\"bottom\")"
   ]
  },
  {
   "cell_type": "code",
   "execution_count": 4,
   "id": "7c08b4fa",
   "metadata": {},
   "outputs": [],
   "source": [
    "#The above functions were non parameterized functionas as we didn't give any value to the function"
   ]
  },
  {
   "cell_type": "code",
   "execution_count": 7,
   "id": "1399dd6d",
   "metadata": {},
   "outputs": [
    {
     "name": "stdout",
     "output_type": "stream",
     "text": [
      "David\n",
      "Josh\n"
     ]
    }
   ],
   "source": [
    "#parameterized function\n",
    "#in this type of fucntion we will give the function a value\n",
    "def say_name(name):\n",
    "    print(name)\n",
    "    \n",
    "say_name(\"David\")\n",
    "say_name(\"Josh\")\n",
    "\n",
    "#a function can accept multiple parameters\n"
   ]
  },
  {
   "cell_type": "code",
   "execution_count": 6,
   "id": "e0f8f9cd",
   "metadata": {},
   "outputs": [
    {
     "name": "stdout",
     "output_type": "stream",
     "text": [
      "9\n"
     ]
    }
   ],
   "source": [
    "#example of a parameterized function\n",
    "def add(n1,n2):\n",
    "    n=n1+n2;\n",
    "    print(n)\n",
    "    \n",
    "add(5,4)"
   ]
  },
  {
   "cell_type": "code",
   "execution_count": 8,
   "id": "b64d6f9b",
   "metadata": {},
   "outputs": [
    {
     "name": "stdout",
     "output_type": "stream",
     "text": [
      "27\n"
     ]
    }
   ],
   "source": [
    "#return statement\n",
    "#a return statement is used to return a value from the function back to the main program\n",
    "def cube(num):\n",
    "    return num*num*num      #this statement will return the computed value back to the main code\n",
    "    \n",
    "ans=cube(3)          #the returned value will be stored in the variable ans\n",
    "print(ans)\n",
    "\n",
    "#any code after the return statement will not be executed because after python enconters a return statement it will\n",
    "#come out of the function"
   ]
  }
 ],
 "metadata": {
  "kernelspec": {
   "display_name": "Python 3",
   "language": "python",
   "name": "python3"
  },
  "language_info": {
   "codemirror_mode": {
    "name": "ipython",
    "version": 3
   },
   "file_extension": ".py",
   "mimetype": "text/x-python",
   "name": "python",
   "nbconvert_exporter": "python",
   "pygments_lexer": "ipython3",
   "version": "3.8.8"
  }
 },
 "nbformat": 4,
 "nbformat_minor": 5
}
